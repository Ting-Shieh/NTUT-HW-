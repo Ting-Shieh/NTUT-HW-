{
 "cells": [
  {
   "cell_type": "code",
   "execution_count": null,
   "metadata": {},
   "outputs": [],
   "source": [
    "# Simple program to show how to do ICA\n",
    "import numpy as np\n",
    "from sklearn.decomposition import FastICA\n",
    "from scipy.io import wavfile\n",
    "#Read audio files\n",
    "samplerate_1, file_1 = wavfile.read('org_1.wav')\n",
    "samplerate_2, file_2 = wavfile.read('org_2.wav')\n",
    "\n",
    "assert (samplerate_1 == samplerate_2), print(\"Both must have the same sample rate\")\n",
    "\n",
    "mx_1 = file_1 / file_1.max() # Normalization\n",
    "mx_2 = file_2 / file_2.max()\n",
    "data_X = np.c_[mx_1,mx_2]\n",
    "\n",
    "ICA = FastICA(n_components=2)\n",
    "X_transformed = ICA.fit_transform(data_X)\n",
    "\n",
    "sep_1 = X_transformed[:,0] * 32767 / max(X_transformed[:,0] * 1.5) # rescale to integer\n",
    "sep_2 = X_transformed[:,1] * 32767 / max(X_transformed[:,1] * 1.5)\n",
    "\n",
    "wavfile.write('res_1.wav',samplerate_1,sep_1.astype(np.int16))\n",
    "wavfile.write('res_2.wav',samplerate_1,sep_2.astype(np.int16))\n",
    "print(\"Done\")\n"
   ]
  }
 ],
 "metadata": {
  "kernelspec": {
   "display_name": "Python 3",
   "language": "python",
   "name": "python3"
  },
  "language_info": {
   "codemirror_mode": {
    "name": "ipython",
    "version": 3
   },
   "file_extension": ".py",
   "mimetype": "text/x-python",
   "name": "python",
   "nbconvert_exporter": "python",
   "pygments_lexer": "ipython3",
   "version": "3.7.9"
  }
 },
 "nbformat": 4,
 "nbformat_minor": 4
}
