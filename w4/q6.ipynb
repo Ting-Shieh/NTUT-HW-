{
 "cells": [
  {
   "cell_type": "code",
   "execution_count": 13,
   "metadata": {},
   "outputs": [
    {
     "name": "stdout",
     "output_type": "stream",
     "text": [
      "k =  1 PoV(k) =  0.6956976157127026\n",
      "avg acc =  0.9523809523809523\n",
      "component = 1 Acc = 0.952\n",
      "k =  2 PoV(k) =  0.7646606678547693\n",
      "avg acc =  0.9666666666666666\n",
      "component = 2 Acc = 0.967\n",
      "k =  3 PoV(k) =  0.8261656046094824\n",
      "avg acc =  0.9571428571428571\n",
      "component = 3 Acc = 0.957\n",
      "k =  4 PoV(k) =  0.8693239925943768\n",
      "avg acc =  0.9619047619047618\n",
      "component = 4 Acc = 0.962\n",
      "k =  5 PoV(k) =  0.9083522334414337\n",
      "avg acc =  0.9666666666666666\n",
      "component = 5 Acc = 0.967\n",
      "k =  6 PoV(k) =  0.9430010704529711\n",
      "avg acc =  0.9666666666666666\n",
      "component = 6 Acc = 0.967\n",
      "k =  7 PoV(k) =  0.9699935626512982\n",
      "avg acc =  0.9666666666666666\n",
      "component = 7 Acc = 0.967\n",
      "k =  8 PoV(k) =  0.9892793792865707\n",
      "avg acc =  0.9666666666666666\n",
      "component = 8 Acc = 0.967\n",
      "k =  9 PoV(k) =  0.9999999999999999\n",
      "avg acc =  0.9666666666666666\n",
      "component = 9 Acc = 0.967\n"
     ]
    }
   ],
   "source": [
    "# A simple program to illustrate how to use sckkit-learn \n",
    "#Perform PCA dimensionality reduction\n",
    "\n",
    "import numpy as np\n",
    "from sklearn import datasets\n",
    "from sklearn.model_selection import train_test_split\n",
    "from sklearn.naive_bayes import GaussianNB\n",
    "from sklearn.decomposition import PCA\n",
    "from sklearn.neighbors import KNeighborsClassifier\n",
    "\n",
    "#Load dataset \n",
    "raw = np.genfromtxt('https://archive.ics.uci.edu/ml/machine-learning-databases/breast-cancer-wisconsin/breast-cancer-wisconsin.data',delimiter=',')\n",
    "mask = np.isnan(raw)\n",
    "raw[mask]=0\n",
    "mask_sum = np.sum(mask, axis = 0)\n",
    "col_sum = np.sum(raw,axis=0)\n",
    "for k in range(10):\n",
    "    mask1d = mask[:,k]\n",
    "    raw[mask1d,k] = col_sum[k] / (len(raw) - mask_sum[k])\n",
    "# Sample features of all_X is 599 x 9\n",
    "# We don't need ID (not a feature)\n",
    "df_X = raw[:,1:10]\n",
    "# Sample labels are in df_y. Shape of df_y is 599\n",
    "df_y = raw[:,10]\n",
    "\n",
    "\n",
    "#Split train and test dataset\n",
    "X_train, X_test, y_train, y_test = train_test_split(df_X, df_y, test_size=0.3, stratify=df_y)\n",
    "\n",
    "\n",
    "for comp in range(1,10): \n",
    "\n",
    "    pca = PCA(n_components=comp)\n",
    "    pca.fit(X_train)    \n",
    "    print(\"k = \",comp,\"PoV(k) = \",np.sum(pca.explained_variance_ratio_))\n",
    "\n",
    "    ld_train = pca.transform(X_train)\n",
    "    ld_test = pca.transform(X_test)\n",
    "    if (0): #use kNN = 0 or Naive Bayesian = 1\n",
    "        acc=0\n",
    "        for i in range(10):\n",
    "            gnb = GaussianNB()\n",
    "            gnb.fit(ld_train, y_train)\n",
    "            acc += gnb.score(ld_test, y_test)\n",
    "        print('avg acc = ',acc/10)\n",
    "    else:\n",
    "        acc=0\n",
    "        for i in range(10):\n",
    "            knn = KNeighborsClassifier(n_neighbors=5)\n",
    "            knn.fit(ld_train, y_train)\n",
    "            acc += knn.score(ld_test, y_test)\n",
    "        print('avg acc = ',acc/10)\n",
    "\n",
    "    print('component = %d Acc = %.3f' % (comp, acc/10) )\n"
   ]
  },
  {
   "cell_type": "code",
   "execution_count": 2,
   "metadata": {},
   "outputs": [
    {
     "name": "stdout",
     "output_type": "stream",
     "text": [
      "Collecting sklearn\n",
      "  Downloading sklearn-0.0.tar.gz (1.1 kB)\n",
      "Collecting scikit-learn\n",
      "  Downloading scikit_learn-0.23.2-cp37-cp37m-win_amd64.whl (6.8 MB)\n",
      "Requirement already satisfied: numpy>=1.13.3 in c:\\users\\lab1223\\anaconda3\\envs\\ai2020f\\lib\\site-packages (from scikit-learn->sklearn) (1.19.1)\n",
      "Collecting joblib>=0.11\n",
      "  Downloading joblib-0.17.0-py3-none-any.whl (301 kB)\n",
      "Requirement already satisfied: scipy>=0.19.1 in c:\\users\\lab1223\\anaconda3\\envs\\ai2020f\\lib\\site-packages (from scikit-learn->sklearn) (1.5.2)\n",
      "Collecting threadpoolctl>=2.0.0\n",
      "  Downloading threadpoolctl-2.1.0-py3-none-any.whl (12 kB)\n",
      "Building wheels for collected packages: sklearn\n",
      "  Building wheel for sklearn (setup.py): started\n",
      "  Building wheel for sklearn (setup.py): finished with status 'done'\n",
      "  Created wheel for sklearn: filename=sklearn-0.0-py2.py3-none-any.whl size=1321 sha256=3f013e24a3ed956175c0dc9cdddeed95cd939c9b60ee682f0e94e2f4aafcabb8\n",
      "  Stored in directory: c:\\users\\lab1223\\appdata\\local\\pip\\cache\\wheels\\46\\ef\\c3\\157e41f5ee1372d1be90b09f74f82b10e391eaacca8f22d33e\n",
      "Successfully built sklearn\n",
      "Installing collected packages: joblib, threadpoolctl, scikit-learn, sklearn\n",
      "Successfully installed joblib-0.17.0 scikit-learn-0.23.2 sklearn-0.0 threadpoolctl-2.1.0\n"
     ]
    }
   ],
   "source": [
    "!pip install sklearn\n"
   ]
  },
  {
   "cell_type": "code",
   "execution_count": null,
   "metadata": {},
   "outputs": [],
   "source": []
  }
 ],
 "metadata": {
  "kernelspec": {
   "display_name": "Python 3",
   "language": "python",
   "name": "python3"
  },
  "language_info": {
   "codemirror_mode": {
    "name": "ipython",
    "version": 3
   },
   "file_extension": ".py",
   "mimetype": "text/x-python",
   "name": "python",
   "nbconvert_exporter": "python",
   "pygments_lexer": "ipython3",
   "version": "3.7.9"
  }
 },
 "nbformat": 4,
 "nbformat_minor": 4
}
