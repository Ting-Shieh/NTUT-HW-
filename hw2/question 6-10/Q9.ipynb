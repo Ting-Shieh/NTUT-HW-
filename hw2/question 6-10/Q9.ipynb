{
 "cells": [
  {
   "cell_type": "code",
   "execution_count": 4,
   "metadata": {},
   "outputs": [
    {
     "name": "stdout",
     "output_type": "stream",
     "text": [
      "Collecting git+https://github.com/hmmlearn/hmmlearn\n",
      "  Cloning https://github.com/hmmlearn/hmmlearn to c:\\users\\lab1223\\appdata\\local\\temp\\pip-req-build-pn7b4kkt\n",
      "Requirement already satisfied: numpy>=1.10 in c:\\users\\lab1223\\anaconda3\\envs\\ai2020f\\lib\\site-packages (from hmmlearn==0.2.4) (1.19.1)\n",
      "Collecting scikit-learn>=0.16\n",
      "  Downloading scikit_learn-0.23.2-cp37-cp37m-win_amd64.whl (6.8 MB)\n",
      "Requirement already satisfied: scipy>=0.19 in c:\\users\\lab1223\\anaconda3\\envs\\ai2020f\\lib\\site-packages (from hmmlearn==0.2.4) (1.5.2)\n",
      "Collecting joblib>=0.11\n",
      "  Downloading joblib-0.17.0-py3-none-any.whl (301 kB)\n",
      "Collecting threadpoolctl>=2.0.0\n",
      "  Downloading threadpoolctl-2.1.0-py3-none-any.whl (12 kB)\n",
      "Building wheels for collected packages: hmmlearn\n",
      "  Building wheel for hmmlearn (setup.py): started\n",
      "  Building wheel for hmmlearn (setup.py): finished with status 'done'\n",
      "  Created wheel for hmmlearn: filename=hmmlearn-0.2.4-cp37-cp37m-win_amd64.whl size=109482 sha256=2cdc21e91c1af700e9ed37b212d28b0338f4fac0f4a330fb1a4b4124bf98e019\n",
      "  Stored in directory: C:\\Users\\LAB1223\\AppData\\Local\\Temp\\pip-ephem-wheel-cache-_dp9i6tm\\wheels\\7f\\cc\\98\\d190f4447289e337cb2ea7b7eb1bf85a8c8707f6db73639484\n",
      "Successfully built hmmlearn\n",
      "Installing collected packages: joblib, threadpoolctl, scikit-learn, hmmlearn\n",
      "Successfully installed hmmlearn-0.2.4 joblib-0.17.0 scikit-learn-0.23.2 threadpoolctl-2.1.0\n"
     ]
    }
   ],
   "source": [
    "# !pip install --user git+https://github.com/hmmlearn/hmmlearn"
   ]
  },
  {
   "cell_type": "code",
   "execution_count": 2,
   "metadata": {},
   "outputs": [],
   "source": [
    "import numpy as np\n",
    "import matplotlib.pyplot as plt\n",
    "\n",
    "from hmmlearn import hmm\n"
   ]
  },
  {
   "cell_type": "code",
   "execution_count": 5,
   "metadata": {},
   "outputs": [],
   "source": [
    "\n",
    "zip = np.load('./HW_data.npz')\n",
    "X1_train = zip['arr_0'] # trainin sequence for 1st HMM\n",
    "X2_train = zip['arr_1'] # training sequence for 2nd HMM\n",
    "test_1 = zip['arr_2'] # two test sequences\n",
    "test_2 = zip['arr_3']"
   ]
  },
  {
   "cell_type": "code",
   "execution_count": 6,
   "metadata": {},
   "outputs": [
    {
     "name": "stdout",
     "output_type": "stream",
     "text": [
      "class 1\n"
     ]
    }
   ],
   "source": [
    "# Test case here ...(1)\n",
    "testHMM1 = hmm.MultinomialHMM(n_components=3,n_iter=100) # number of states is actually unknown, we assume we know it\n",
    "testHMM2 = hmm.MultinomialHMM(n_components=3,n_iter=100) # number of states is actually unknown, we assume we know it\n",
    "\n",
    "testHMM1.fit(X1_train)\n",
    "testHMM2.fit(X2_train)\n",
    "\n",
    "score1 = testHMM1.score(test_1)\n",
    "score2 = testHMM2.score(test_1)\n",
    "\n",
    "if (score1 > score2):\n",
    "    print('class 1')\n",
    "else:\n",
    "    print('class 2')"
   ]
  },
  {
   "cell_type": "code",
   "execution_count": 7,
   "metadata": {},
   "outputs": [
    {
     "name": "stdout",
     "output_type": "stream",
     "text": [
      "class 2\n"
     ]
    }
   ],
   "source": [
    "# Test case here ...(2)\n",
    "testHMM1 = hmm.MultinomialHMM(n_components=3,n_iter=100) # number of states is actually unknown, we assume we know it\n",
    "testHMM2 = hmm.MultinomialHMM(n_components=3,n_iter=100) # number of states is actually unknown, we assume we know it\n",
    "\n",
    "testHMM1.fit(X1_train)\n",
    "testHMM2.fit(X2_train)\n",
    "\n",
    "score1 = testHMM1.score(test_2)\n",
    "score2 = testHMM2.score(test_2)\n",
    "\n",
    "if (score1 > score2):\n",
    "    print('class 1')\n",
    "else:\n",
    "    print('class 2')"
   ]
  },
  {
   "cell_type": "code",
   "execution_count": null,
   "metadata": {},
   "outputs": [],
   "source": []
  }
 ],
 "metadata": {
  "kernelspec": {
   "display_name": "Python 3",
   "language": "python",
   "name": "python3"
  },
  "language_info": {
   "codemirror_mode": {
    "name": "ipython",
    "version": 3
   },
   "file_extension": ".py",
   "mimetype": "text/x-python",
   "name": "python",
   "nbconvert_exporter": "python",
   "pygments_lexer": "ipython3",
   "version": "3.7.9"
  }
 },
 "nbformat": 4,
 "nbformat_minor": 4
}
