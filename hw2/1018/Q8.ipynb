{
 "cells": [
  {
   "cell_type": "code",
   "execution_count": 1,
   "metadata": {},
   "outputs": [],
   "source": [
    "\n",
    "import numpy as np\n",
    "from sklearn import datasets\n",
    "from sklearn.model_selection import train_test_split\n",
    "from sklearn.neighbors import KNeighborsClassifier"
   ]
  },
  {
   "cell_type": "code",
   "execution_count": 2,
   "metadata": {},
   "outputs": [],
   "source": [
    "# read raw file\n",
    "# 458 samples with class = 2, 241 samples with class = 4\n",
    "filename = 'breast-cancer-wisconsin.data'\n",
    "raw = np.genfromtxt(filename, delimiter=',')  \n"
   ]
  },
  {
   "cell_type": "code",
   "execution_count": 3,
   "metadata": {},
   "outputs": [],
   "source": [
    "# NaN means missing data, need to fill it\n",
    "mask = np.isnan(raw)\n",
    "raw[mask]=0\n",
    "mask_sum = np.sum(mask, axis = 0)\n",
    "col_sum = np.sum(raw,axis=0)\n",
    "for k in range(10):\n",
    "    mask1d = mask[:,k]\n",
    "    raw[mask1d,k] = col_sum[k] / (len(raw) - mask_sum[k])"
   ]
  },
  {
   "cell_type": "code",
   "execution_count": 4,
   "metadata": {},
   "outputs": [],
   "source": [
    "# Sample features of all_X is 599 x 9\n",
    "# We don't need ID (not a feature)\n",
    "all_X = raw[:,1:10]\n",
    "# Sample labels are in df_y. Shape of df_y is 599\n",
    "df_y = raw[:,10]"
   ]
  },
  {
   "cell_type": "code",
   "execution_count": 5,
   "metadata": {},
   "outputs": [
    {
     "data": {
      "text/plain": [
       "699"
      ]
     },
     "execution_count": 5,
     "metadata": {},
     "output_type": "execute_result"
    }
   ],
   "source": [
    "all_X.shape[0]"
   ]
  },
  {
   "cell_type": "code",
   "execution_count": 6,
   "metadata": {},
   "outputs": [],
   "source": [
    "train_len = 419\n",
    "val_len = 140\n",
    "test_len = 140"
   ]
  },
  {
   "cell_type": "code",
   "execution_count": 7,
   "metadata": {},
   "outputs": [],
   "source": [
    "\n",
    "train_X = np.zeros((10,train_len,9))\n",
    "validate_X = np.zeros((10,val_len,9))\n",
    "test_X = np.zeros((10,test_len,9))\n",
    "train_y = np.zeros((10,train_len,))\n",
    "validate_y = np.zeros((10,val_len))\n",
    "test_y = np.zeros((10,test_len))"
   ]
  },
  {
   "cell_type": "code",
   "execution_count": 8,
   "metadata": {},
   "outputs": [
    {
     "data": {
      "text/plain": [
       "((10, 419, 9), (10, 419))"
      ]
     },
     "execution_count": 8,
     "metadata": {},
     "output_type": "execute_result"
    }
   ],
   "source": [
    "train_X.shape,train_y.shape"
   ]
  },
  {
   "cell_type": "code",
   "execution_count": 9,
   "metadata": {},
   "outputs": [
    {
     "data": {
      "text/plain": [
       "((10, 140, 9), (10, 140))"
      ]
     },
     "execution_count": 9,
     "metadata": {},
     "output_type": "execute_result"
    }
   ],
   "source": [
    "validate_X.shape,validate_y.shape"
   ]
  },
  {
   "cell_type": "code",
   "execution_count": 10,
   "metadata": {},
   "outputs": [
    {
     "data": {
      "text/plain": [
       "((10, 140, 9), (10, 140))"
      ]
     },
     "execution_count": 10,
     "metadata": {},
     "output_type": "execute_result"
    }
   ],
   "source": [
    "test_X.shape,test_y.shape"
   ]
  },
  {
   "cell_type": "code",
   "execution_count": 11,
   "metadata": {},
   "outputs": [
    {
     "name": "stdout",
     "output_type": "stream",
     "text": [
      "(419, 9) (140, 9) (140, 9)\n",
      "(419, 9) (140, 9) (140, 9)\n",
      "(419, 9) (140, 9) (140, 9)\n",
      "(419, 9) (140, 9) (140, 9)\n",
      "(419, 9) (140, 9) (140, 9)\n",
      "(419, 9) (140, 9) (140, 9)\n",
      "(419, 9) (140, 9) (140, 9)\n",
      "(419, 9) (140, 9) (140, 9)\n",
      "(419, 9) (140, 9) (140, 9)\n",
      "(419, 9) (140, 9) (140, 9)\n"
     ]
    }
   ],
   "source": [
    "\n",
    "for i in range(10):\n",
    "    X_train, X_test, y_train, y_test = train_test_split(all_X, df_y, test_size=0.2, stratify=df_y)\n",
    "    X_train, X_val, y_train, y_val = train_test_split(X_train, y_train, test_size=0.25, stratify=y_train)\n",
    "\n",
    "    print(X_train.shape,X_val.shape,X_test.shape)\n",
    "    train_X[i,:,:] = X_train\n",
    "    validate_X[i,:,:] = X_val\n",
    "    test_X[i,:,:] = X_test\n",
    "    train_y[i,:] = y_train\n",
    "    validate_y[i,:] = y_val\n",
    "    test_y[i,:] = y_test\n"
   ]
  },
  {
   "cell_type": "code",
   "execution_count": 12,
   "metadata": {},
   "outputs": [
    {
     "data": {
      "text/plain": [
       "(array([[[ 1.,  1.,  1., ...,  3.,  1.,  1.],\n",
       "         [ 2.,  5.,  3., ...,  7.,  5.,  1.],\n",
       "         [ 1.,  1.,  1., ...,  1.,  1.,  1.],\n",
       "         ...,\n",
       "         [ 7.,  2.,  4., ...,  3.,  3.,  1.],\n",
       "         [ 1.,  1.,  1., ...,  3.,  1.,  1.],\n",
       "         [ 5.,  5.,  5., ...,  3.,  1.,  1.]],\n",
       " \n",
       "        [[ 5.,  1.,  3., ...,  2.,  3.,  1.],\n",
       "         [ 1.,  1.,  1., ...,  1.,  1.,  1.],\n",
       "         [ 2.,  1.,  1., ...,  1.,  1.,  1.],\n",
       "         ...,\n",
       "         [ 1.,  1.,  1., ...,  3.,  1.,  1.],\n",
       "         [ 1.,  1.,  1., ...,  2.,  1.,  1.],\n",
       "         [ 2.,  1.,  1., ...,  1.,  1.,  1.]],\n",
       " \n",
       "        [[ 1.,  3.,  1., ...,  2.,  2.,  1.],\n",
       "         [10.,  4.,  6., ...,  7.,  1.,  1.],\n",
       "         [ 3.,  1.,  1., ...,  2.,  1.,  1.],\n",
       "         ...,\n",
       "         [ 8.,  7.,  8., ...,  9., 10.,  1.],\n",
       "         [ 8.,  3.,  4., ...,  3.,  3.,  1.],\n",
       "         [ 7.,  8.,  8., ...,  7.,  2.,  3.]],\n",
       " \n",
       "        ...,\n",
       " \n",
       "        [[ 1.,  1.,  1., ...,  3.,  1.,  1.],\n",
       "         [ 1.,  1.,  2., ...,  3.,  1.,  1.],\n",
       "         [ 3.,  1.,  1., ...,  2.,  1.,  1.],\n",
       "         ...,\n",
       "         [ 1.,  2.,  1., ...,  1.,  2.,  1.],\n",
       "         [ 3.,  1.,  1., ...,  2.,  1.,  1.],\n",
       "         [10.,  3.,  3., ...,  7.,  3.,  3.]],\n",
       " \n",
       "        [[ 5.,  4.,  5., ...,  3.,  6.,  1.],\n",
       "         [ 3.,  7.,  7., ...,  4.,  8.,  1.],\n",
       "         [ 3.,  1.,  1., ...,  1.,  1.,  1.],\n",
       "         ...,\n",
       "         [ 4.,  2.,  1., ...,  1.,  1.,  1.],\n",
       "         [ 1.,  1.,  1., ...,  2.,  1.,  1.],\n",
       "         [ 2.,  1.,  1., ...,  1.,  1.,  1.]],\n",
       " \n",
       "        [[ 8., 10.,  4., ...,  8.,  2.,  1.],\n",
       "         [ 1.,  1.,  1., ...,  3.,  1.,  1.],\n",
       "         [ 1.,  2.,  2., ...,  1.,  1.,  1.],\n",
       "         ...,\n",
       "         [ 4.,  2.,  2., ...,  2.,  1.,  1.],\n",
       "         [ 3.,  1.,  1., ...,  1.,  1.,  1.],\n",
       "         [ 4.,  1.,  1., ...,  2.,  1.,  1.]]]),\n",
       " array([[[ 8.,  7.,  8., ...,  5., 10.,  1.],\n",
       "         [ 6.,  3.,  2., ...,  4.,  1.,  1.],\n",
       "         [10.,  5., 10., ...,  7.,  8.,  3.],\n",
       "         ...,\n",
       "         [ 8., 10., 10., ...,  8., 10.,  6.],\n",
       "         [10.,  4.,  2., ...,  4.,  3., 10.],\n",
       "         [ 1.,  1.,  1., ...,  1.,  1.,  1.]],\n",
       " \n",
       "        [[ 1.,  1.,  1., ...,  1.,  1.,  1.],\n",
       "         [ 1.,  1.,  1., ...,  3.,  2.,  1.],\n",
       "         [ 4.,  4.,  4., ...,  7.,  3.,  1.],\n",
       "         ...,\n",
       "         [ 4.,  1.,  1., ...,  3.,  1.,  1.],\n",
       "         [ 6., 10., 10., ...,  8., 10., 10.],\n",
       "         [10.,  3.,  3., ...,  7.,  6.,  1.]],\n",
       " \n",
       "        [[ 4.,  1.,  3., ...,  1.,  1.,  1.],\n",
       "         [10.,  7.,  7., ...,  4.,  1.,  2.],\n",
       "         [ 5.,  1.,  2., ...,  1.,  1.,  1.],\n",
       "         ...,\n",
       "         [ 4.,  4.,  2., ...,  2.,  1.,  2.],\n",
       "         [ 6., 10., 10., ...,  7., 10.,  7.],\n",
       "         [ 2.,  1.,  1., ...,  2.,  1.,  1.]],\n",
       " \n",
       "        ...,\n",
       " \n",
       "        [[10., 10., 10., ...,  7., 10., 10.],\n",
       "         [ 1.,  1.,  1., ...,  3.,  1.,  1.],\n",
       "         [ 6., 10., 10., ...,  7., 10.,  7.],\n",
       "         ...,\n",
       "         [ 4.,  8.,  6., ..., 10.,  6.,  1.],\n",
       "         [ 1.,  1.,  2., ...,  1.,  1.,  1.],\n",
       "         [ 4.,  4.,  4., ...,  7.,  3.,  1.]],\n",
       " \n",
       "        [[10., 10., 10., ...,  8.,  1.,  1.],\n",
       "         [ 2.,  1.,  1., ...,  3.,  1.,  1.],\n",
       "         [ 1.,  1.,  4., ...,  2.,  1.,  1.],\n",
       "         ...,\n",
       "         [10., 10., 10., ...,  4.,  1.,  1.],\n",
       "         [ 1.,  1.,  1., ...,  2.,  1.,  1.],\n",
       "         [ 1.,  1.,  1., ...,  1.,  1.,  1.]],\n",
       " \n",
       "        [[10., 10., 10., ..., 10.,  6.,  1.],\n",
       "         [ 4.,  1.,  2., ...,  2.,  1.,  1.],\n",
       "         [ 1.,  1.,  1., ...,  2.,  1.,  2.],\n",
       "         ...,\n",
       "         [ 3.,  3.,  2., ...,  3.,  5.,  1.],\n",
       "         [ 5., 10., 10., ...,  7., 10.,  5.],\n",
       "         [ 5., 10., 10., ...,  5., 10.,  3.]]]),\n",
       " array([[[ 5.,  1.,  1., ...,  2.,  2.,  1.],\n",
       "         [ 4.,  1.,  1., ...,  1.,  1.,  1.],\n",
       "         [ 1.,  1.,  1., ...,  2.,  1.,  1.],\n",
       "         ...,\n",
       "         [ 2.,  1.,  1., ...,  2.,  1.,  1.],\n",
       "         [10., 10., 10., ...,  4.,  1.,  1.],\n",
       "         [ 5.,  5.,  5., ...,  4.,  3.,  1.]],\n",
       " \n",
       "        [[ 2.,  7., 10., ...,  4.,  9.,  4.],\n",
       "         [ 4.,  1.,  1., ...,  3.,  1.,  1.],\n",
       "         [ 2.,  1.,  1., ...,  3.,  1.,  1.],\n",
       "         ...,\n",
       "         [ 4.,  1.,  2., ...,  2.,  1.,  1.],\n",
       "         [ 1.,  1.,  1., ...,  2.,  1.,  1.],\n",
       "         [ 1.,  1.,  1., ...,  1.,  1.,  1.]],\n",
       " \n",
       "        [[10., 10., 10., ...,  4.,  1.,  1.],\n",
       "         [ 5.,  1.,  1., ...,  2.,  1.,  1.],\n",
       "         [ 3.,  1.,  1., ...,  1.,  1.,  1.],\n",
       "         ...,\n",
       "         [ 1.,  1.,  1., ...,  2.,  1.,  1.],\n",
       "         [ 5.,  7.,  9., ...,  8., 10.,  1.],\n",
       "         [10.,  7.,  7., ...,  5.,  7.,  2.]],\n",
       " \n",
       "        ...,\n",
       " \n",
       "        [[ 5., 10.,  8., ...,  3.,  6.,  3.],\n",
       "         [ 1.,  1.,  2., ...,  2.,  1.,  1.],\n",
       "         [ 5.,  3.,  6., ...,  1.,  1.,  1.],\n",
       "         ...,\n",
       "         [ 4.,  1.,  1., ...,  1.,  1.,  1.],\n",
       "         [ 6.,  9.,  7., ...,  4.,  2.,  1.],\n",
       "         [ 1.,  1.,  3., ...,  1.,  1.,  1.]],\n",
       " \n",
       "        [[ 5.,  1.,  1., ...,  3.,  1.,  1.],\n",
       "         [ 4.,  1.,  1., ...,  3.,  2.,  1.],\n",
       "         [ 5.,  5.,  5., ...,  7.,  3.,  7.],\n",
       "         ...,\n",
       "         [ 3.,  2.,  2., ...,  2.,  3.,  1.],\n",
       "         [ 5.,  8.,  8., ...,  7.,  8.,  1.],\n",
       "         [ 4.,  1.,  4., ...,  1.,  1.,  1.]],\n",
       " \n",
       "        [[ 5.,  2.,  3., ...,  3.,  6.,  1.],\n",
       "         [ 5.,  2.,  1., ...,  1.,  1.,  1.],\n",
       "         [ 4.,  2.,  1., ...,  3.,  1.,  1.],\n",
       "         ...,\n",
       "         [ 4.,  1.,  1., ...,  2.,  1.,  1.],\n",
       "         [10.,  4.,  7., ...,  6.,  1.,  1.],\n",
       "         [ 3.,  5.,  7., ...,  7., 10.,  7.]]]))"
      ]
     },
     "execution_count": 12,
     "metadata": {},
     "output_type": "execute_result"
    }
   ],
   "source": [
    "train_X,validate_X,test_X"
   ]
  },
  {
   "cell_type": "code",
   "execution_count": null,
   "metadata": {},
   "outputs": [],
   "source": []
  },
  {
   "cell_type": "code",
   "execution_count": 13,
   "metadata": {},
   "outputs": [],
   "source": [
    "# selected features, T = selected, F = not selected\n",
    "sel_f = [False,False,False,False,False,False,False,False,False] "
   ]
  },
  {
   "cell_type": "code",
   "execution_count": 14,
   "metadata": {},
   "outputs": [],
   "source": [
    "for fset in range (3): # pick at most three features\n",
    "    mx_avg = 0 \n",
    "    ix_keep = 10 \n",
    "    for k in range(9): # totally 9 features\n",
    "        avg = 0 ;\n",
    "        tmp = sel_f.copy()\n",
    "        if (tmp[k] != True): # skip those features we have already chosen\n",
    "            tmp[k] = True\n",
    "            df_X = all_X[:,tmp]\n",
    "            for lp in range(10): # loop exp 10 times\n",
    "                #Split train and test dataset <--- this part is NOT correct. Just want to mnake codes executable\n",
    "                X_train, X_test, y_train, y_test = train_test_split(df_X, df_y, test_size=0.3,stratify=df_y)\n",
    "                \n",
    "                X_train = train_X[i,:,:] \n",
    "                X_test = validate_X[i,:,:]\n",
    "                y_train = train_y[i,:]\n",
    "                y_test = validate_y[i,:]\n",
    "                \n",
    "                \n",
    "                knn = KNeighborsClassifier(n_neighbors=3)\n",
    "                #Train the model        \n",
    "                knn.fit(X_train, y_train)\n",
    "                #print(knn.score(X_test, y_test))\n",
    "                avg = avg + knn.score(X_test, y_test)\n",
    "            avg = avg / 10 # avg accuracy\n",
    "            if (avg > mx_avg):\n",
    "                ix_keep = k \n",
    "                mx_avg = avg\n",
    "    #done with k, update feature vector\n",
    "    sel_f[ix_keep]= True"
   ]
  },
  {
   "cell_type": "code",
   "execution_count": 15,
   "metadata": {},
   "outputs": [
    {
     "data": {
      "text/plain": [
       "(140, 3)"
      ]
     },
     "execution_count": 15,
     "metadata": {},
     "output_type": "execute_result"
    }
   ],
   "source": [
    "X_test[:,sel_f].shape"
   ]
  },
  {
   "cell_type": "code",
   "execution_count": 16,
   "metadata": {},
   "outputs": [
    {
     "data": {
      "text/plain": [
       "(419, 3)"
      ]
     },
     "execution_count": 16,
     "metadata": {},
     "output_type": "execute_result"
    }
   ],
   "source": [
    "X_train[:,sel_f].shape"
   ]
  },
  {
   "cell_type": "code",
   "execution_count": 17,
   "metadata": {},
   "outputs": [
    {
     "name": "stdout",
     "output_type": "stream",
     "text": [
      "Final avg accuracy 0.9642857142857142 chosen features are [0 1 2]\n"
     ]
    }
   ],
   "source": [
    "# we have everyything here ... Do final test\n",
    "# df_X_train = X_train[:,sel_f]\n",
    "avg = 0 \n",
    "for lp in range(10): # repeat exp 10 times\n",
    "    \n",
    "    knn = KNeighborsClassifier(n_neighbors=3)\n",
    "    #Train the model        \n",
    "    knn.fit( X_train[:,sel_f], y_train)\n",
    "    #print(knn.score(X_test, y_test))\n",
    "    avg = avg + knn.score(X_test[:,sel_f], y_test)\n",
    "avg = avg / 10 # avg accuracy\n",
    "\n",
    "show_index = np.array(range(9))\n",
    "print('Final avg accuracy',avg, 'chosen features are', show_index[sel_f] )"
   ]
  },
  {
   "cell_type": "code",
   "execution_count": null,
   "metadata": {},
   "outputs": [],
   "source": []
  },
  {
   "cell_type": "code",
   "execution_count": null,
   "metadata": {},
   "outputs": [],
   "source": []
  },
  {
   "cell_type": "code",
   "execution_count": null,
   "metadata": {},
   "outputs": [],
   "source": []
  },
  {
   "cell_type": "code",
   "execution_count": null,
   "metadata": {},
   "outputs": [],
   "source": []
  },
  {
   "cell_type": "code",
   "execution_count": null,
   "metadata": {},
   "outputs": [],
   "source": []
  },
  {
   "cell_type": "code",
   "execution_count": null,
   "metadata": {},
   "outputs": [],
   "source": []
  },
  {
   "cell_type": "code",
   "execution_count": 18,
   "metadata": {},
   "outputs": [
    {
     "name": "stdout",
     "output_type": "stream",
     "text": [
      "Final avg accuracy 0.9614285714285715 chosen features are [0 1 5]\n"
     ]
    }
   ],
   "source": [
    "# A simple program to illustrate how to use scikit-learn \n",
    "# Read Breast cancer dataset\n",
    "# Note the program is not correct. It just shows how to perform the feature selection process\n",
    "# You need to revise the program to make it work correctly\n",
    "\n",
    "\n",
    "\n",
    "\n",
    "\n",
    "# Need to split train, validation, and test here\n",
    "# Split the sets for 10 times and store them here\n",
    "# We will use the same training and validation sets when choosing features ....\n",
    "# Check problem 7 of HW 1 to see how to do it\n",
    "\n",
    "# selected features, T = selected, F = not selected\n",
    "sel_f = [False,False,False,False,False,False,False,False,False] \n",
    "\n",
    "for fset in range (3): # pick at most three features\n",
    "    mx_avg = 0 \n",
    "    ix_keep = 10 \n",
    "    for k in range(9): # totally 9 features\n",
    "        avg = 0 ;\n",
    "        tmp = sel_f.copy()\n",
    "        if (tmp[k] != True): # skip those features we have already chosen\n",
    "            tmp[k] = True\n",
    "            df_X = all_X[:,tmp]\n",
    "            for lp in range(10): # loop exp 10 times\n",
    "            #Split train and test dataset <--- this part is NOT correct. Just want to mnake codes executable\n",
    "                X_train, X_test, y_train, y_test = train_test_split(df_X, df_y, test_size=0.3,stratify=df_y)\n",
    "                knn = KNeighborsClassifier(n_neighbors=3)\n",
    "                #Train the model        \n",
    "                knn.fit(X_train, y_train)\n",
    "                #print(knn.score(X_test, y_test))\n",
    "                avg = avg + knn.score(X_test, y_test)\n",
    "            avg = avg / 10 # avg accuracy\n",
    "            if (avg > mx_avg):\n",
    "                ix_keep = k \n",
    "                mx_avg = avg\n",
    "    #done with k, update feature vector\n",
    "    sel_f[ix_keep]= True\n",
    "    \n",
    "# we have everyything here ... Do final test\n",
    "df_X = all_X[:,sel_f]\n",
    "avg = 0 \n",
    "for lp in range(10): # repeat exp 10 times\n",
    "    # Want to extract stored test dataset\n",
    "    X_train, X_test, y_train, y_test = train_test_split(df_X, df_y, test_size=0.3) #<----- WRONG codes\n",
    "    knn = KNeighborsClassifier(n_neighbors=3)\n",
    "    #Train the model        \n",
    "    knn.fit(X_train, y_train)\n",
    "    #print(knn.score(X_test, y_test))\n",
    "    avg = avg + knn.score(X_test, y_test)\n",
    "avg = avg / 10 # avg accuracy\n",
    "\n",
    "show_index = np.array(range(9))\n",
    "print('Final avg accuracy',avg, 'chosen features are', show_index[sel_f] )"
   ]
  }
 ],
 "metadata": {
  "kernelspec": {
   "display_name": "Python 3",
   "language": "python",
   "name": "python3"
  },
  "language_info": {
   "codemirror_mode": {
    "name": "ipython",
    "version": 3
   },
   "file_extension": ".py",
   "mimetype": "text/x-python",
   "name": "python",
   "nbconvert_exporter": "python",
   "pygments_lexer": "ipython3",
   "version": "3.7.9"
  }
 },
 "nbformat": 4,
 "nbformat_minor": 4
}
