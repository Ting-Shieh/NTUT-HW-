{
 "cells": [
  {
   "cell_type": "code",
   "execution_count": 1,
   "metadata": {},
   "outputs": [],
   "source": [
    "%run Week01_HW_package.ipynb"
   ]
  },
  {
   "cell_type": "markdown",
   "metadata": {},
   "source": [
    "###  6. UC Irvine has a large repository for various kinds of data. In this problem, you are asked to use the iris dataset (https://archive.ics.uci.edu/ml/datasets/Iris) to perform the experiments. Use the K-NN classifier for the classification task with K = 7. To begin one trial, randomly draw 70% of the instances for training and the rest for testing. Repeat the trials 10 times and compute the average accuracy."
   ]
  },
  {
   "cell_type": "code",
   "execution_count": 2,
   "metadata": {},
   "outputs": [],
   "source": [
    "week1_package_q6 = Week1_package(init_q=\"q6\",input_data=input_dict, output=output)\n",
    "x_train, x_test, y_train, y_test = week1_package_q6.get_train_test_data()\n",
    "week1_package_q6.build_model(x_train, y_train,x_test, y_test)\n",
    "week1_package_q6.do_loop_building_model()"
   ]
  },
  {
   "cell_type": "code",
   "execution_count": 3,
   "metadata": {},
   "outputs": [
    {
     "name": "stdout",
     "output_type": "stream",
     "text": [
      "Q6-1: Use the K-NN classifier for the classification task with K = 7.\n",
      " =>ANS:0.9777777777777777\n",
      "Q6-2:Repeat the trials 10 times and compute the average accuracy.\n",
      " =>ANS:0.9777777777777776\n"
     ]
    }
   ],
   "source": [
    "for item in output[\"q6_res\"]:\n",
    "    print(\"{}\\n =>ANS:{}\".format(item['text'],item['value']))"
   ]
  },
  {
   "cell_type": "markdown",
   "metadata": {},
   "source": [
    "### 7.Repeat problem 6, but use 60% of the data as the training set, 20% as the validation set, and the rest 20% as test set. Vary K from 3 to 11 and use the validation set to determine the best value of K. The value of K must be determined based on average of 10 trials. Once K is known, find the average accuracy of 10 trials based on the best K."
   ]
  },
  {
   "cell_type": "code",
   "execution_count": 4,
   "metadata": {},
   "outputs": [
    {
     "name": "stdout",
     "output_type": "stream",
     "text": [
      "===========================q7-1==========================\n",
      "*********K=3*********\n",
      "i===>0, knn.score==0.9666666666666667, total avg=0.9666666666666667\n",
      "i===>1, knn.score==0.9666666666666667, total avg=1.9333333333333333\n",
      "i===>2, knn.score==0.8333333333333334, total avg=2.7666666666666666\n",
      "i===>3, knn.score==0.9333333333333333, total avg=3.7\n",
      "i===>4, knn.score==1.0, total avg=4.7\n",
      "i===>5, knn.score==1.0, total avg=5.7\n",
      "i===>6, knn.score==1.0, total avg=6.7\n",
      "i===>7, knn.score==1.0, total avg=7.7\n",
      "i===>8, knn.score==1.0, total avg=8.7\n",
      "i===>9, knn.score==0.9666666666666667, total avg=9.666666666666666\n",
      "*********K=4*********\n",
      "i===>0, knn.score==0.9333333333333333, total avg=0.9333333333333333\n",
      "i===>1, knn.score==0.9666666666666667, total avg=1.9\n",
      "i===>2, knn.score==1.0, total avg=2.9\n",
      "i===>3, knn.score==0.9, total avg=3.8\n",
      "i===>4, knn.score==0.9666666666666667, total avg=4.766666666666667\n",
      "i===>5, knn.score==0.9666666666666667, total avg=5.733333333333333\n",
      "i===>6, knn.score==0.9333333333333333, total avg=6.666666666666667\n",
      "i===>7, knn.score==0.9333333333333333, total avg=7.6000000000000005\n",
      "i===>8, knn.score==0.9666666666666667, total avg=8.566666666666666\n",
      "i===>9, knn.score==0.9, total avg=9.466666666666667\n",
      "*********K=5*********\n",
      "i===>0, knn.score==0.9333333333333333, total avg=0.9333333333333333\n",
      "i===>1, knn.score==0.9666666666666667, total avg=1.9\n",
      "i===>2, knn.score==0.9666666666666667, total avg=2.8666666666666667\n",
      "i===>3, knn.score==0.9666666666666667, total avg=3.8333333333333335\n",
      "i===>4, knn.score==0.9333333333333333, total avg=4.766666666666667\n",
      "i===>5, knn.score==0.8666666666666667, total avg=5.633333333333333\n",
      "i===>6, knn.score==1.0, total avg=6.633333333333333\n",
      "i===>7, knn.score==0.9666666666666667, total avg=7.6\n",
      "i===>8, knn.score==0.9666666666666667, total avg=8.566666666666666\n",
      "i===>9, knn.score==0.9333333333333333, total avg=9.5\n",
      "*********K=6*********\n",
      "i===>0, knn.score==0.9, total avg=0.9\n",
      "i===>1, knn.score==1.0, total avg=1.9\n",
      "i===>2, knn.score==0.9666666666666667, total avg=2.8666666666666667\n",
      "i===>3, knn.score==0.9666666666666667, total avg=3.8333333333333335\n",
      "i===>4, knn.score==0.9666666666666667, total avg=4.8\n",
      "i===>5, knn.score==0.9666666666666667, total avg=5.766666666666667\n",
      "i===>6, knn.score==0.9, total avg=6.666666666666667\n",
      "i===>7, knn.score==0.9666666666666667, total avg=7.633333333333334\n",
      "i===>8, knn.score==0.8333333333333334, total avg=8.466666666666667\n",
      "i===>9, knn.score==0.9666666666666667, total avg=9.433333333333334\n",
      "*********K=7*********\n",
      "i===>0, knn.score==0.9666666666666667, total avg=0.9666666666666667\n",
      "i===>1, knn.score==0.9666666666666667, total avg=1.9333333333333333\n",
      "i===>2, knn.score==1.0, total avg=2.9333333333333336\n",
      "i===>3, knn.score==0.9666666666666667, total avg=3.9000000000000004\n",
      "i===>4, knn.score==0.9333333333333333, total avg=4.833333333333334\n",
      "i===>5, knn.score==1.0, total avg=5.833333333333334\n",
      "i===>6, knn.score==0.9333333333333333, total avg=6.7666666666666675\n",
      "i===>7, knn.score==0.9333333333333333, total avg=7.700000000000001\n",
      "i===>8, knn.score==1.0, total avg=8.700000000000001\n",
      "i===>9, knn.score==1.0, total avg=9.700000000000001\n",
      "*********K=8*********\n",
      "i===>0, knn.score==0.9666666666666667, total avg=0.9666666666666667\n",
      "i===>1, knn.score==0.9333333333333333, total avg=1.9\n",
      "i===>2, knn.score==0.9, total avg=2.8\n",
      "i===>3, knn.score==0.9, total avg=3.6999999999999997\n",
      "i===>4, knn.score==0.9333333333333333, total avg=4.633333333333333\n",
      "i===>5, knn.score==0.9333333333333333, total avg=5.566666666666666\n",
      "i===>6, knn.score==0.9333333333333333, total avg=6.5\n",
      "i===>7, knn.score==0.9333333333333333, total avg=7.433333333333334\n",
      "i===>8, knn.score==0.9666666666666667, total avg=8.4\n",
      "i===>9, knn.score==0.9333333333333333, total avg=9.333333333333334\n",
      "*********K=9*********\n",
      "i===>0, knn.score==0.9666666666666667, total avg=0.9666666666666667\n",
      "i===>1, knn.score==1.0, total avg=1.9666666666666668\n",
      "i===>2, knn.score==1.0, total avg=2.966666666666667\n",
      "i===>3, knn.score==1.0, total avg=3.966666666666667\n",
      "i===>4, knn.score==0.9, total avg=4.866666666666667\n",
      "i===>5, knn.score==0.9666666666666667, total avg=5.833333333333334\n",
      "i===>6, knn.score==0.9666666666666667, total avg=6.800000000000001\n",
      "i===>7, knn.score==0.9666666666666667, total avg=7.7666666666666675\n",
      "i===>8, knn.score==1.0, total avg=8.766666666666667\n",
      "i===>9, knn.score==0.9333333333333333, total avg=9.700000000000001\n",
      "*********K=10*********\n",
      "i===>0, knn.score==0.9666666666666667, total avg=0.9666666666666667\n",
      "i===>1, knn.score==0.9, total avg=1.8666666666666667\n",
      "i===>2, knn.score==0.9666666666666667, total avg=2.8333333333333335\n",
      "i===>3, knn.score==0.9666666666666667, total avg=3.8000000000000003\n",
      "i===>4, knn.score==1.0, total avg=4.800000000000001\n",
      "i===>5, knn.score==1.0, total avg=5.800000000000001\n",
      "i===>6, knn.score==1.0, total avg=6.800000000000001\n",
      "i===>7, knn.score==0.9666666666666667, total avg=7.7666666666666675\n",
      "i===>8, knn.score==1.0, total avg=8.766666666666667\n",
      "i===>9, knn.score==0.9666666666666667, total avg=9.733333333333334\n",
      "*********K=11*********\n",
      "i===>0, knn.score==0.9666666666666667, total avg=0.9666666666666667\n",
      "i===>1, knn.score==0.9666666666666667, total avg=1.9333333333333333\n",
      "i===>2, knn.score==0.9666666666666667, total avg=2.9\n",
      "i===>3, knn.score==0.9666666666666667, total avg=3.8666666666666667\n",
      "i===>4, knn.score==0.9666666666666667, total avg=4.833333333333333\n",
      "i===>5, knn.score==1.0, total avg=5.833333333333333\n",
      "i===>6, knn.score==0.9666666666666667, total avg=6.8\n",
      "i===>7, knn.score==0.9666666666666667, total avg=7.766666666666667\n",
      "i===>8, knn.score==0.9666666666666667, total avg=8.733333333333333\n",
      "i===>9, knn.score==0.9666666666666667, total avg=9.7\n",
      "===========================q7-2==========================\n",
      "i===>0, knn.score==0.9666666666666667, total avg=0.9666666666666667\n",
      "i===>1, knn.score==0.9666666666666667, total avg=1.9333333333333333\n",
      "i===>2, knn.score==1.0, total avg=2.9333333333333336\n",
      "i===>3, knn.score==1.0, total avg=3.9333333333333336\n",
      "i===>4, knn.score==0.9333333333333333, total avg=4.866666666666667\n",
      "i===>5, knn.score==0.9666666666666667, total avg=5.833333333333334\n",
      "i===>6, knn.score==1.0, total avg=6.833333333333334\n",
      "i===>7, knn.score==1.0, total avg=7.833333333333334\n",
      "i===>8, knn.score==0.9333333333333333, total avg=8.766666666666667\n",
      "i===>9, knn.score==0.9333333333333333, total avg=9.700000000000001\n"
     ]
    }
   ],
   "source": [
    "week1_package_q7 = Week1_package(init_q=\"q7\",input_data=input_dict, output=output)\n",
    "week1_package_q7.do_loop_building_model()"
   ]
  },
  {
   "cell_type": "code",
   "execution_count": 5,
   "metadata": {},
   "outputs": [
    {
     "name": "stdout",
     "output_type": "stream",
     "text": [
      "Q:Q7-1: Vary K from 3 to 11 and use the validation set to determine the best value of K. The value of K must be determined based on average of 10 trials.validate best avg accuracy ?\n",
      " =>ANS:0.9733333333333334 and the best k is 10\n",
      "Q:Q7-2: Once K is known, find the average accuracy of 10 trials based on the best K.\n",
      " =>ANS:0.9700000000000001 and the best k is 10\n"
     ]
    }
   ],
   "source": [
    "for item in output[\"q7_res\"]:\n",
    "    print(\"Q:{}\\n =>ANS:{} and the best k is {}\".format(item['text'],item['value'],item['best_k']))"
   ]
  },
  {
   "cell_type": "markdown",
   "metadata": {},
   "source": [
    "### 8.We can also use the iris dataset for regression work. Consult the Internet to learn the equations of linear regression, and use the first three features (sepal length, sepal width, petal length) in each sample as inputs to predict the fourth feature (petal width). To conduct one trial, again you need to divide the dataset into a training set (70%) and a test set (30%). To simplify the problem, build one model for all three class es . Repeat 10 trials and report the average MSE for each class. Is linear regression an acceptable regression model in this problem? Why?"
   ]
  },
  {
   "cell_type": "code",
   "execution_count": 6,
   "metadata": {},
   "outputs": [
    {
     "name": "stdout",
     "output_type": "stream",
     "text": [
      "===========0============\n",
      "===========1============\n",
      "===========2============\n",
      "===========3============\n",
      "===========4============\n",
      "===========5============\n",
      "===========6============\n",
      "===========7============\n",
      "===========8============\n",
      "===========9============\n"
     ]
    }
   ],
   "source": [
    "week1_package_q8 = Week1_package(init_q=\"q8\",input_data=input_dict, output=output)\n",
    "week1_package_q8.build_model_for_q8()"
   ]
  },
  {
   "cell_type": "code",
   "execution_count": 7,
   "metadata": {},
   "outputs": [
    {
     "name": "stdout",
     "output_type": "stream",
     "text": [
      "Q:  Q8: Repeat 10 trials and report the average MSE for each class. => Ans\n",
      "ANS:\n",
      " \n",
      "q8-1:Mean squared error for 0:=>1.45\n",
      "q8-2:Mean squared error for 1:=>0.67\n",
      "q8-3:Mean squared error for 2:=>1.38\n"
     ]
    }
   ],
   "source": [
    "print(\"Q: \",output[\"q8_res\"]['text'])\n",
    "print(\"ANS:\\n \")\n",
    "print(\"q8-1:{}=>{}\".format(output[\"q8_res\"]['q8-1'][0],output[\"q8_res\"]['q8-1'][1]))\n",
    "print(\"q8-2:{}=>{}\".format(output[\"q8_res\"]['q8-2'][0],output[\"q8_res\"]['q8-2'][1]))\n",
    "print(\"q8-3:{}=>{}\".format(output[\"q8_res\"]['q8-3'][0],output[\"q8_res\"]['q8-3'][1]))"
   ]
  },
  {
   "cell_type": "markdown",
   "metadata": {},
   "source": [
    "### 9.Repeat problem 8 with a KNN regressor Use weights=' distance in this problem. Among linear regressor and KNN regressor, which one seems better (based on the obtained average mse)?"
   ]
  },
  {
   "cell_type": "markdown",
   "metadata": {},
   "source": [
    "* 執行環境\n",
    "    * cpu核心數 6\n",
    "    * cpu型號 Intel(R) Core(TM) i5-8500 CPU @ 3.00GHz\n",
    "\n",
    "|MSE|KNN regressor|linear regressor|\n",
    "|:---:|:---:|:---:|\n",
    "|Mean squared error for 0|1.51|1.40|\n",
    "|Mean squared error for 1|0.55|0.50|\n",
    "|Mean squared error for 2|1.36|1.28|\n"
   ]
  },
  {
   "cell_type": "code",
   "execution_count": 8,
   "metadata": {},
   "outputs": [
    {
     "name": "stdout",
     "output_type": "stream",
     "text": [
      "===========0============\n",
      "===========1============\n",
      "===========2============\n",
      "===========3============\n",
      "===========4============\n",
      "===========5============\n",
      "===========6============\n",
      "===========7============\n",
      "===========8============\n",
      "===========9============\n"
     ]
    }
   ],
   "source": [
    "week1_package_q9 = Week1_package(init_q=\"q9\",input_data=input_dict, output=output)\n",
    "week1_package_q9.build_model_for_q9()"
   ]
  },
  {
   "cell_type": "code",
   "execution_count": 9,
   "metadata": {},
   "outputs": [
    {
     "name": "stdout",
     "output_type": "stream",
     "text": [
      "Q:  Q9: linear regressor and KNN regressor, which one seems better (based on the obtained average mse)?=> Ans\n",
      "ANS:\n",
      " \n",
      "q9-1:Mean squared error for 0:=>1.4\n",
      "q9-2:Mean squared error for 1:=>0.59\n",
      "q9-3:Mean squared error for 2:=>1.26\n"
     ]
    }
   ],
   "source": [
    "print(\"Q: \",output[\"q9_res\"]['text'])\n",
    "print(\"ANS:\\n \")\n",
    "print(\"q9-1:{}=>{}\".format(output[\"q9_res\"]['q9-1'][0],output[\"q9_res\"]['q9-1'][1]))\n",
    "print(\"q9-2:{}=>{}\".format(output[\"q9_res\"]['q9-2'][0],output[\"q9_res\"]['q9-2'][1]))\n",
    "print(\"q9-3:{}=>{}\".format(output[\"q9_res\"]['q9-3'][0],output[\"q9_res\"]['q9-3'][1]))"
   ]
  },
  {
   "cell_type": "markdown",
   "metadata": {},
   "source": [
    "### 10.Write a program to reproduce the bias variance example plots shown on the lecture ppt file (supervised learning, pp. 31-34). The fitted functions are from 1 st order to 10 th order. Plot the results and then c ompare your results with the lecture notes. Any discrepancy"
   ]
  },
  {
   "cell_type": "code",
   "execution_count": 10,
   "metadata": {
    "scrolled": true
   },
   "outputs": [
    {
     "data": {
      "image/png": "[encoded data removed]",
      "text/plain": [
       "<Figure size 432x288 with 1 Axes>"
      ]
     },
     "metadata": {
      "needs_background": "light"
     },
     "output_type": "display_data"
    }
   ],
   "source": [
    "week1_package_q10 = Week1_package(init_q=\"q10\",input_data=input_dict, output=output)\n",
    "week1_package_q10.plot_q10()"
   ]
  },
  {
   "cell_type": "markdown",
   "metadata": {},
   "source": [
    "#### 直接顯示照片\n"
   ]
  },
  {
   "cell_type": "code",
   "execution_count": 11,
   "metadata": {},
   "outputs": [
    {
     "data": {
      "application/vnd.jupyter.widget-view+json": {
       "model_id": "dbf8b9b4bf6b48bab77dc119ea30fd99",
       "version_major": 2,
       "version_minor": 0
      },
      "text/plain": [
       "interactive(children=(IntSlider(value=4, description='p_idx', max=9), Output()), _dom_classes=('widget-interac…"
      ]
     },
     "metadata": {},
     "output_type": "display_data"
    }
   ],
   "source": [
    "intp = InteractPlot()\n",
    "intp.use_bar_draw()"
   ]
  },
  {
   "cell_type": "code",
   "execution_count": null,
   "metadata": {},
   "outputs": [],
   "source": []
  },
  {
   "cell_type": "code",
   "execution_count": null,
   "metadata": {},
   "outputs": [],
   "source": []
  }
 ],
 "metadata": {
  "kernelspec": {
   "display_name": "Python 3",
   "language": "python",
   "name": "python3"
  },
  "language_info": {
   "codemirror_mode": {
    "name": "ipython",
    "version": 3
   },
   "file_extension": ".py",
   "mimetype": "text/x-python",
   "name": "python",
   "nbconvert_exporter": "python",
   "pygments_lexer": "ipython3",
   "version": "3.7.4"
  }
 },
 "nbformat": 4,
 "nbformat_minor": 4
}
