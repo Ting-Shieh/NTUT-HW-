{
 "cells": [
  {
   "cell_type": "code",
   "execution_count": 1,
   "metadata": {},
   "outputs": [],
   "source": [
    "import numpy as np\n",
    "from sklearn import datasets\n",
    "from sklearn.model_selection import train_test_split\n",
    "from sklearn.ensemble import AdaBoostClassifier\n",
    "from sklearn.tree import DecisionTreeClassifier\n",
    "\n"
   ]
  },
  {
   "cell_type": "code",
   "execution_count": 2,
   "metadata": {},
   "outputs": [],
   "source": [
    "#Load dataset \n",
    "filename = 'breast-cancer-wisconsin.data'\n",
    "raw = np.genfromtxt(filename, delimiter=',')\n",
    "\n",
    "# NaN means missing data, need to fill it\n",
    "mask = np.isnan(raw)\n",
    "raw[mask]=0\n",
    "mask_sum = np.sum(mask, axis = 0)\n",
    "col_sum = np.sum(raw,axis=0)\n",
    "for k in range(10):\n",
    "    mask1d = mask[:,k]\n",
    "    raw[mask1d,k] = col_sum[k] / (len(raw) - mask_sum[k])\n",
    "\n",
    "# Sample features of all_X is 599 x 9\n",
    "# We don't need ID (not a feature)\n",
    "df_X = raw[:,1:10]\n",
    "# Sample labels are in df_y. Shape of df_y is 599\n",
    "df_y = raw[:,10]"
   ]
  },
  {
   "cell_type": "code",
   "execution_count": 3,
   "metadata": {},
   "outputs": [],
   "source": [
    "repeat_times = 50\n",
    "\n",
    "d_size, dim = np.shape(df_X)\n",
    "repeat_times = 50"
   ]
  },
  {
   "cell_type": "code",
   "execution_count": 4,
   "metadata": {},
   "outputs": [],
   "source": [
    "d_size = len(df_y)\n",
    "train_len = int(d_size * 0.7+0.49) # do rounding instead of truncation\n",
    "test_len = int(d_size * 0.3+0.49)"
   ]
  },
  {
   "cell_type": "code",
   "execution_count": 5,
   "metadata": {},
   "outputs": [],
   "source": [
    "all_train_X = np.zeros((repeat_times,train_len,dim))\n",
    "all_test_X = np.zeros((repeat_times,test_len,dim))\n",
    "all_train_y = np.zeros((repeat_times,train_len,))\n",
    "all_test_y = np.zeros((repeat_times,test_len))"
   ]
  },
  {
   "cell_type": "code",
   "execution_count": 6,
   "metadata": {},
   "outputs": [],
   "source": [
    "for i in range(repeat_times):\n",
    "    X_train, X_test, y_train, y_test = train_test_split(df_X, df_y, test_size=0.3, stratify=df_y)\n",
    "    all_train_X[i,:,:] = X_train\n",
    "    all_test_X[i,:,:] = X_test\n",
    "    all_train_y[i,:] = y_train\n",
    "    all_test_y[i,:] = y_test"
   ]
  },
  {
   "cell_type": "code",
   "execution_count": 7,
   "metadata": {},
   "outputs": [
    {
     "name": "stdout",
     "output_type": "stream",
     "text": [
      "Number of estimator = 5 Train acc = 0.975 test acc = 0.954\n",
      "Number of estimator = 15 Train acc = 1.000 test acc = 0.954\n",
      "Number of estimator = 25 Train acc = 1.000 test acc = 0.957\n",
      "Number of estimator = 35 Train acc = 1.000 test acc = 0.957\n",
      "Number of estimator = 45 Train acc = 1.000 test acc = 0.959\n",
      "Number of estimator = 55 Train acc = 1.000 test acc = 0.960\n",
      "Number of estimator = 65 Train acc = 1.000 test acc = 0.962\n",
      "Number of estimator = 75 Train acc = 1.000 test acc = 0.961\n",
      "Number of estimator = 85 Train acc = 1.000 test acc = 0.962\n",
      "Number of estimator = 95 Train acc = 1.000 test acc = 0.963\n"
     ]
    }
   ],
   "source": [
    "\n",
    "for est_no in range(5,105,10): # number of weak classifiers (trees)\n",
    "    train_acc = 0 \n",
    "    acc = 0 # test accuracy\n",
    "    for i in range(repeat_times):\n",
    "        X_train = all_train_X[i,:,:] \n",
    "        X_test = all_test_X[i,:,:] \n",
    "        y_train = all_train_y[i,:] \n",
    "        y_test = all_test_y[i,:]\n",
    "        #increase depth if execution time is too long\n",
    "        ada = AdaBoostClassifier(DecisionTreeClassifier(max_depth=2), n_estimators=est_no) \n",
    "        ada.fit(X_train, y_train)\n",
    "        train_acc = train_acc + ada.score(X_train, y_train)\n",
    "        acc = acc + ada.score(X_test, y_test)\n",
    "\n",
    "    train_acc = train_acc / repeat_times \n",
    "    acc = acc / repeat_times \n",
    "    print('Number of estimator = %d Train acc = %.3f test acc = %.3f' % (est_no, train_acc, acc))"
   ]
  },
  {
   "cell_type": "code",
   "execution_count": 8,
   "metadata": {
    "scrolled": false
   },
   "outputs": [
    {
     "name": "stdout",
     "output_type": "stream",
     "text": [
      "Number of estimator = 5 Train acc = 0.956 test acc = 0.946\n",
      "Number of estimator = 15 Train acc = 0.971 test acc = 0.953\n",
      "Number of estimator = 25 Train acc = 0.981 test acc = 0.954\n",
      "Number of estimator = 35 Train acc = 0.987 test acc = 0.954\n",
      "Number of estimator = 45 Train acc = 0.992 test acc = 0.954\n",
      "Number of estimator = 55 Train acc = 0.995 test acc = 0.955\n",
      "Number of estimator = 65 Train acc = 0.997 test acc = 0.954\n",
      "Number of estimator = 75 Train acc = 0.998 test acc = 0.953\n",
      "Number of estimator = 85 Train acc = 0.999 test acc = 0.954\n",
      "Number of estimator = 95 Train acc = 1.000 test acc = 0.953\n"
     ]
    }
   ],
   "source": [
    "for est_no in range(5,105,10): # number of weak classifiers (trees)\n",
    "    train_acc = 0 \n",
    "    acc = 0 # test accuracy\n",
    "    for i in range(repeat_times):\n",
    "        X_train = all_train_X[i,:,:] \n",
    "        X_test = all_test_X[i,:,:] \n",
    "        y_train = all_train_y[i,:] \n",
    "        y_test = all_test_y[i,:]\n",
    "        #increase depth if execution time is too long\n",
    "        ada = AdaBoostClassifier(DecisionTreeClassifier(max_depth=1), n_estimators=est_no) \n",
    "        ada.fit(X_train, y_train)\n",
    "        train_acc = train_acc + ada.score(X_train, y_train)\n",
    "        acc = acc + ada.score(X_test, y_test)\n",
    "\n",
    "    train_acc = train_acc / repeat_times \n",
    "    acc = acc / repeat_times \n",
    "    print('Number of estimator = %d Train acc = %.3f test acc = %.3f' % (est_no, train_acc, acc))"
   ]
  },
  {
   "cell_type": "markdown",
   "metadata": {},
   "source": [
    "### 1. 弱分類器=15，no training error\n",
    "### 2. 弱分類器越多，acc 還是會微幅上升。\n",
    "### 3. depth = 1，弱分類器=95，no training error。"
   ]
  },
  {
   "cell_type": "code",
   "execution_count": null,
   "metadata": {},
   "outputs": [],
   "source": []
  },
  {
   "cell_type": "code",
   "execution_count": null,
   "metadata": {},
   "outputs": [],
   "source": []
  }
 ],
 "metadata": {
  "kernelspec": {
   "display_name": "Python 3",
   "language": "python",
   "name": "python3"
  },
  "language_info": {
   "codemirror_mode": {
    "name": "ipython",
    "version": 3
   },
   "file_extension": ".py",
   "mimetype": "text/x-python",
   "name": "python",
   "nbconvert_exporter": "python",
   "pygments_lexer": "ipython3",
   "version": "3.7.9"
  }
 },
 "nbformat": 4,
 "nbformat_minor": 4
}
