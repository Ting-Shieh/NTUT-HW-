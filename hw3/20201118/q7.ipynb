{
 "cells": [
  {
   "cell_type": "code",
   "execution_count": 1,
   "metadata": {
    "scrolled": true
   },
   "outputs": [],
   "source": [
    "import numpy as np\n",
    "from sklearn import datasets\n",
    "from sklearn.model_selection import train_test_split\n",
    "from sklearn.svm import SVC\n",
    "\n",
    "\n",
    "\n",
    "\n",
    "\n",
    "\n",
    "\n"
   ]
  },
  {
   "cell_type": "code",
   "execution_count": 2,
   "metadata": {},
   "outputs": [],
   "source": [
    "#Load dataset \n",
    "filename = 'breast-cancer-wisconsin.data'\n",
    "raw = np.genfromtxt(filename, delimiter=',')"
   ]
  },
  {
   "cell_type": "code",
   "execution_count": 3,
   "metadata": {},
   "outputs": [],
   "source": [
    "# NaN means missing data, need to fill it\n",
    "mask = np.isnan(raw)\n",
    "raw[mask]=0\n",
    "mask_sum = np.sum(mask, axis = 0)\n",
    "col_sum = np.sum(raw,axis=0)\n",
    "for k in range(10):\n",
    "    mask1d = mask[:,k]\n",
    "    raw[mask1d,k] = col_sum[k] / (len(raw) - mask_sum[k])"
   ]
  },
  {
   "cell_type": "code",
   "execution_count": 4,
   "metadata": {},
   "outputs": [],
   "source": [
    "# Sample features of all_X is 599 x 9\n",
    "# We don't need ID (not a feature)\n",
    "df_X = raw[:,1:10]\n",
    "# Sample labels are in df_y. Shape of df_y is 599\n",
    "df_y = raw[:,10]"
   ]
  },
  {
   "cell_type": "code",
   "execution_count": 5,
   "metadata": {},
   "outputs": [],
   "source": [
    "L2_value = 0.1 # use a loop to change it\n"
   ]
  },
  {
   "cell_type": "code",
   "execution_count": 7,
   "metadata": {},
   "outputs": [
    {
     "name": "stdout",
     "output_type": "stream",
     "text": [
      "=========0.1=========\n",
      "C = 0.1, Train acc = 0.937 Test acc = 0.938\n",
      "=========0.2=========\n",
      "C = 0.2, Train acc = 0.955 Test acc = 0.940\n",
      "=========0.30000000000000004=========\n",
      "C = 0.3, Train acc = 0.953 Test acc = 0.943\n",
      "=========0.4=========\n",
      "C = 0.4, Train acc = 0.967 Test acc = 0.943\n",
      "=========0.5=========\n",
      "C = 0.5, Train acc = 0.971 Test acc = 0.947\n",
      "=========0.6=========\n",
      "C = 0.6, Train acc = 0.978 Test acc = 0.946\n",
      "=========0.7000000000000001=========\n",
      "C = 0.7, Train acc = 0.978 Test acc = 0.950\n",
      "=========0.8=========\n",
      "C = 0.8, Train acc = 0.986 Test acc = 0.952\n",
      "=========0.9=========\n",
      "C = 0.9, Train acc = 0.996 Test acc = 0.953\n",
      "=========1.0=========\n",
      "C = 1.0, Train acc = 1.000 Test acc = 0.952\n",
      "=========1.1=========\n",
      "C = 1.1, Train acc = 1.000 Test acc = 0.954\n",
      "=========1.2000000000000002=========\n",
      "C = 1.2, Train acc = 1.000 Test acc = 0.953\n",
      "=========1.3000000000000003=========\n",
      "C = 1.3, Train acc = 1.000 Test acc = 0.959\n",
      "=========1.4000000000000001=========\n",
      "C = 1.4, Train acc = 1.000 Test acc = 0.953\n",
      "=========1.5000000000000002=========\n",
      "C = 1.5, Train acc = 1.000 Test acc = 0.958\n",
      "=========1.6=========\n",
      "C = 1.6, Train acc = 1.000 Test acc = 0.956\n",
      "=========1.7000000000000002=========\n",
      "C = 1.7, Train acc = 1.000 Test acc = 0.954\n",
      "=========1.8000000000000003=========\n",
      "C = 1.8, Train acc = 1.000 Test acc = 0.961\n",
      "=========1.9000000000000001=========\n",
      "C = 1.9, Train acc = 1.000 Test acc = 0.956\n",
      "=========2.0=========\n",
      "C = 2.0, Train acc = 1.000 Test acc = 0.959\n",
      "=========2.1=========\n",
      "C = 2.1, Train acc = 1.000 Test acc = 0.958\n",
      "=========2.2=========\n",
      "C = 2.2, Train acc = 1.000 Test acc = 0.958\n",
      "=========2.3000000000000003=========\n",
      "C = 2.3, Train acc = 1.000 Test acc = 0.958\n",
      "=========2.4000000000000004=========\n",
      "C = 2.4, Train acc = 1.000 Test acc = 0.957\n",
      "=========2.5000000000000004=========\n",
      "C = 2.5, Train acc = 1.000 Test acc = 0.959\n",
      "=========2.6=========\n",
      "C = 2.6, Train acc = 1.000 Test acc = 0.958\n",
      "=========2.7=========\n",
      "C = 2.7, Train acc = 1.000 Test acc = 0.955\n",
      "=========2.8000000000000003=========\n",
      "C = 2.8, Train acc = 1.000 Test acc = 0.959\n",
      "=========2.9000000000000004=========\n",
      "C = 2.9, Train acc = 1.000 Test acc = 0.958\n"
     ]
    }
   ],
   "source": [
    "for l2_value in np.arange(0.1,3,0.1):\n",
    "    print(\"========={}=========\".format(l2_value))\n",
    "    acc = 0\n",
    "    for lp in range(50):\n",
    "        #Split train and test dataset\n",
    "        X_train, X_test, y_train, y_test = train_test_split(df_X, df_y, test_size=0.3, stratify=df_y)\n",
    "        svm = SVC(C=l2_value, gamma='auto')\n",
    "        svm.fit(X_train, y_train)\n",
    "        train_acc = svm.score(X_train, y_train)\n",
    "        # if we want, we can save trained models in a list and use them later\n",
    "        acc = acc + svm.score(X_test, y_test)\n",
    "    print('C = %1.1f, Train acc = %.3f Test acc = %.3f' % (l2_value, train_acc, acc / (lp+1)))    "
   ]
  },
  {
   "cell_type": "code",
   "execution_count": null,
   "metadata": {},
   "outputs": [],
   "source": [
    "\n"
   ]
  },
  {
   "cell_type": "code",
   "execution_count": null,
   "metadata": {},
   "outputs": [],
   "source": []
  },
  {
   "cell_type": "code",
   "execution_count": null,
   "metadata": {},
   "outputs": [],
   "source": []
  }
 ],
 "metadata": {
  "kernelspec": {
   "display_name": "Python 3",
   "language": "python",
   "name": "python3"
  },
  "language_info": {
   "codemirror_mode": {
    "name": "ipython",
    "version": 3
   },
   "file_extension": ".py",
   "mimetype": "text/x-python",
   "name": "python",
   "nbconvert_exporter": "python",
   "pygments_lexer": "ipython3",
   "version": "3.7.9"
  }
 },
 "nbformat": 4,
 "nbformat_minor": 4
}
